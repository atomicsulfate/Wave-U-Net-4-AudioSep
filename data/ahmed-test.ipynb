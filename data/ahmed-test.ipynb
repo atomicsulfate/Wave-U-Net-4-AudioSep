{
 "cells": [
  {
   "cell_type": "code",
   "execution_count": null,
   "id": "51e6d872",
   "metadata": {},
   "outputs": [],
   "source": [
    "%load_ext autoreload\n",
    "%autoreload 2"
   ]
  },
  {
   "cell_type": "code",
   "execution_count": null,
   "id": "79f4808f",
   "metadata": {},
   "outputs": [],
   "source": [
    "import logging \n",
    "logging.basicConfig(format='%(levelname)s:%(message)s', level=logging.INFO)"
   ]
  },
  {
   "cell_type": "code",
   "execution_count": null,
   "id": "a5499791",
   "metadata": {},
   "outputs": [],
   "source": [
    "# Set cwd to project root directory, so that waveUNet imports can be resolved.\n",
    "import os\n",
    "project_root = os.path.dirname(os.path.dirname(os.path.realpath(\"__file__\")))\n",
    "os.chdir(project_root)\n",
    "os.getcwd()"
   ]
  },
  {
   "cell_type": "code",
   "execution_count": null,
   "id": "2a39be7d",
   "metadata": {},
   "outputs": [],
   "source": [
    "import musdb_loader\n",
    "import viz\n",
    "import dataset\n",
    "import torch"
   ]
  },
  {
   "cell_type": "code",
   "execution_count": null,
   "id": "8ba6f275",
   "metadata": {},
   "outputs": [],
   "source": [
    "data = musdb_loader.get_musdb_folds('data/musdb', version=None)"
   ]
  },
  {
   "cell_type": "code",
   "execution_count": null,
   "id": "a140b818",
   "metadata": {},
   "outputs": [],
   "source": [
    "train = dataset.SeparationDataset(data['train'])\n",
    "test = dataset.SeparationDataset(data['test'])"
   ]
  },
  {
   "cell_type": "code",
   "execution_count": null,
   "id": "3f482450",
   "metadata": {},
   "outputs": [],
   "source": [
    "train_audio, target_audios = (train[9])"
   ]
  },
  {
   "cell_type": "code",
   "execution_count": null,
   "id": "bf07250b",
   "metadata": {},
   "outputs": [],
   "source": [
    "train_audio, target_audios"
   ]
  },
  {
   "cell_type": "code",
   "execution_count": null,
   "id": "daf515f6",
   "metadata": {},
   "outputs": [],
   "source": [
    "viz.play_audio(train_audio, sample_rate=22050)"
   ]
  },
  {
   "cell_type": "code",
   "execution_count": null,
   "id": "74eca0fd",
   "metadata": {},
   "outputs": [],
   "source": [
    "viz.play_audio(target_audios['vocals'], sample_rate=22050)"
   ]
  },
  {
   "cell_type": "code",
   "execution_count": null,
   "id": "51858b48",
   "metadata": {},
   "outputs": [],
   "source": [
    "viz.plot_specgram(train_audio, sample_rate=22050)"
   ]
  },
  {
   "cell_type": "code",
   "execution_count": null,
   "id": "388675c2",
   "metadata": {},
   "outputs": [],
   "source": [
    "viz.plot_specgram(target_audios['vocals'], sample_rate=22050)"
   ]
  },
  {
   "cell_type": "code",
   "execution_count": null,
   "id": "6209ee44",
   "metadata": {},
   "outputs": [],
   "source": [
    "viz.plot_specgram(target_audios['bass'], sample_rate=22050)"
   ]
  },
  {
   "cell_type": "code",
   "execution_count": null,
   "id": "eabdfc7c",
   "metadata": {},
   "outputs": [],
   "source": [
    "viz.plot_waveform(train_audio, sample_rate=22050)"
   ]
  },
  {
   "cell_type": "code",
   "execution_count": null,
   "id": "a76de1ef",
   "metadata": {},
   "outputs": [],
   "source": [
    "viz.plot_sweep(train_audio, 22050, 'sweep')"
   ]
  },
  {
   "cell_type": "code",
   "execution_count": null,
   "id": "e089e1ad",
   "metadata": {},
   "outputs": [],
   "source": [
    "viz.plot_sweep(target_audios['bass'], 22050, 'sweep')"
   ]
  },
  {
   "cell_type": "markdown",
   "id": "ed128923",
   "metadata": {},
   "source": [
    "### Adding a transformation used in the paper"
   ]
  },
  {
   "cell_type": "code",
   "execution_count": null,
   "id": "108d30df",
   "metadata": {},
   "outputs": [],
   "source": [
    "import numpy as np\n",
    "def random_amplify(mix, targets, min, max):\n",
    "    '''\n",
    "    Data augmentation by randomly amplifying sources before adding them to form a new mixture\n",
    "    :param mix: Original mixture\n",
    "    :param targets: Source targets\n",
    "    :param shapes: Shape dict from model\n",
    "    :param min: Minimum possible amplification\n",
    "    :param max: Maximum possible amplification\n",
    "    :return: New data point as tuple (mix, targets)\n",
    "    '''\n",
    "    residual = mix  # start with original mix\n",
    "    for key in targets.keys():\n",
    "        residual -= targets[key]  # subtract all instruments (output is zero if all instruments add to mix)\n",
    "    mix = residual * np.random.uniform(min, max)  # also apply gain data augmentation to residual\n",
    "    for key in targets.keys():\n",
    "        if key != \"mix\":\n",
    "            targets[key] = targets[key] * np.random.uniform(min, max)\n",
    "            mix += targets[key]  # add instrument with gain data augmentation to mix\n",
    "#     mix = torch.clip(mix, -1.0, 1.0) #uncomment later\n",
    "    return mix, targets\n"
   ]
  },
  {
   "cell_type": "code",
   "execution_count": null,
   "id": "e547db72",
   "metadata": {},
   "outputs": [],
   "source": [
    "from functools import partial\n",
    "amplify_function = partial(random_amplify, min=0.7, max=10.0)\n",
    "transforms = [amplify_function]\n",
    "transformed_train = dataset.SeparationDataset(data['train'], transforms=transforms)\n",
    "trasnformed_test = dataset.SeparationDataset(data['test'], transforms=transforms)"
   ]
  },
  {
   "cell_type": "code",
   "execution_count": null,
   "id": "7b006b57",
   "metadata": {},
   "outputs": [],
   "source": [
    "transformed_train_audio, transformed_target_audios = transformed_train[9]"
   ]
  },
  {
   "cell_type": "code",
   "execution_count": null,
   "id": "a2273ef1",
   "metadata": {},
   "outputs": [],
   "source": [
    "viz.plot_specgram(train_audio, sample_rate=22050)"
   ]
  },
  {
   "cell_type": "code",
   "execution_count": null,
   "id": "54e1d6c4",
   "metadata": {},
   "outputs": [],
   "source": [
    "viz.plot_specgram(transformed_train_audio, sample_rate=22050)"
   ]
  },
  {
   "cell_type": "code",
   "execution_count": null,
   "id": "a11a9e54",
   "metadata": {},
   "outputs": [],
   "source": [
    "viz.play_audio(train_audio, sample_rate=22050)"
   ]
  },
  {
   "cell_type": "code",
   "execution_count": null,
   "id": "7971b028",
   "metadata": {},
   "outputs": [],
   "source": [
    "viz.play_audio(transformed_train_audio, sample_rate=22050)"
   ]
  },
  {
   "cell_type": "code",
   "execution_count": null,
   "id": "e6561b04",
   "metadata": {},
   "outputs": [],
   "source": []
  }
 ],
 "metadata": {
  "kernelspec": {
   "display_name": "Python 3 (ipykernel)",
   "language": "python",
   "name": "python3"
  },
  "language_info": {
   "codemirror_mode": {
    "name": "ipython",
    "version": 3
   },
   "file_extension": ".py",
   "mimetype": "text/x-python",
   "name": "python",
   "nbconvert_exporter": "python",
   "pygments_lexer": "ipython3",
   "version": "3.8.12"
  }
 },
 "nbformat": 4,
 "nbformat_minor": 5
}
