{
 "cells": [
  {
   "cell_type": "code",
   "execution_count": 1,
   "id": "51e6d872",
   "metadata": {},
   "outputs": [],
   "source": [
    "%load_ext autoreload\n",
    "%autoreload 2"
   ]
  },
  {
   "cell_type": "code",
   "execution_count": 2,
   "id": "79f4808f",
   "metadata": {},
   "outputs": [],
   "source": [
    "import logging \n",
    "logging.basicConfig(format='%(levelname)s:%(message)s', level=logging.INFO)"
   ]
  },
  {
   "cell_type": "code",
   "execution_count": 3,
   "id": "a5499791",
   "metadata": {},
   "outputs": [
    {
     "data": {
      "text/plain": [
       "'/home/andres/pml'"
      ]
     },
     "execution_count": 3,
     "metadata": {},
     "output_type": "execute_result"
    }
   ],
   "source": [
    "# Set cwd to project root directory, so that waveUNet imports can be resolved.\n",
    "import os\n",
    "project_root = os.path.dirname(os.path.dirname(os.path.realpath(\"__file__\")))\n",
    "os.chdir(project_root)\n",
    "os.getcwd()"
   ]
  },
  {
   "cell_type": "code",
   "execution_count": 4,
   "id": "2a39be7d",
   "metadata": {},
   "outputs": [
    {
     "ename": "ModuleNotFoundError",
     "evalue": "No module named 'data.utils'",
     "output_type": "error",
     "traceback": [
      "\u001b[0;31m---------------------------------------------------------------------------\u001b[0m",
      "\u001b[0;31mModuleNotFoundError\u001b[0m                       Traceback (most recent call last)",
      "\u001b[0;32m/tmp/ipykernel_54542/1903458637.py\u001b[0m in \u001b[0;36m<module>\u001b[0;34m\u001b[0m\n\u001b[0;32m----> 1\u001b[0;31m \u001b[0;32mimport\u001b[0m \u001b[0mmusdb_loader\u001b[0m\u001b[0;34m\u001b[0m\u001b[0;34m\u001b[0m\u001b[0m\n\u001b[0m\u001b[1;32m      2\u001b[0m \u001b[0;32mimport\u001b[0m \u001b[0mviz\u001b[0m\u001b[0;34m\u001b[0m\u001b[0;34m\u001b[0m\u001b[0m\n\u001b[1;32m      3\u001b[0m \u001b[0;32mimport\u001b[0m \u001b[0mdataset\u001b[0m\u001b[0;34m\u001b[0m\u001b[0;34m\u001b[0m\u001b[0m\n\u001b[1;32m      4\u001b[0m \u001b[0;32mimport\u001b[0m \u001b[0mtorch\u001b[0m\u001b[0;34m\u001b[0m\u001b[0;34m\u001b[0m\u001b[0m\n",
      "\u001b[0;32m~/pml/data/musdb_loader.py\u001b[0m in \u001b[0;36m<module>\u001b[0;34m\u001b[0m\n\u001b[1;32m      8\u001b[0m \u001b[0msetattr\u001b[0m\u001b[0;34m(\u001b[0m\u001b[0mMultiTrack\u001b[0m\u001b[0;34m,\u001b[0m\u001b[0;34m\"__lt__\"\u001b[0m\u001b[0;34m,\u001b[0m \u001b[0;32mlambda\u001b[0m \u001b[0mself\u001b[0m\u001b[0;34m,\u001b[0m\u001b[0mother\u001b[0m\u001b[0;34m:\u001b[0m \u001b[0mstr\u001b[0m\u001b[0;34m(\u001b[0m\u001b[0mself\u001b[0m\u001b[0;34m)\u001b[0m \u001b[0;34m<\u001b[0m \u001b[0mstr\u001b[0m\u001b[0;34m(\u001b[0m\u001b[0mother\u001b[0m\u001b[0;34m)\u001b[0m\u001b[0;34m)\u001b[0m\u001b[0;34m\u001b[0m\u001b[0;34m\u001b[0m\u001b[0m\n\u001b[1;32m      9\u001b[0m \u001b[0;34m\u001b[0m\u001b[0m\n\u001b[0;32m---> 10\u001b[0;31m \u001b[0;32mfrom\u001b[0m \u001b[0mwaveUNet\u001b[0m\u001b[0;34m.\u001b[0m\u001b[0mdata\u001b[0m\u001b[0;34m.\u001b[0m\u001b[0mmusdb\u001b[0m \u001b[0;32mimport\u001b[0m \u001b[0;34m*\u001b[0m\u001b[0;34m\u001b[0m\u001b[0;34m\u001b[0m\u001b[0m\n\u001b[0m\u001b[1;32m     11\u001b[0m \u001b[0;34m\u001b[0m\u001b[0m\n\u001b[1;32m     12\u001b[0m \u001b[0;32mdef\u001b[0m \u001b[0msetup_hq_musdb\u001b[0m\u001b[0;34m(\u001b[0m\u001b[0mroot_path\u001b[0m\u001b[0;34m)\u001b[0m\u001b[0;34m:\u001b[0m\u001b[0;34m\u001b[0m\u001b[0;34m\u001b[0m\u001b[0m\n",
      "\u001b[0;32m~/pml/waveUNet/data/musdb.py\u001b[0m in \u001b[0;36m<module>\u001b[0;34m\u001b[0m\n\u001b[1;32m      4\u001b[0m \u001b[0;32mimport\u001b[0m \u001b[0mglob\u001b[0m\u001b[0;34m\u001b[0m\u001b[0;34m\u001b[0m\u001b[0m\n\u001b[1;32m      5\u001b[0m \u001b[0;34m\u001b[0m\u001b[0m\n\u001b[0;32m----> 6\u001b[0;31m \u001b[0;32mfrom\u001b[0m \u001b[0mdata\u001b[0m\u001b[0;34m.\u001b[0m\u001b[0mutils\u001b[0m \u001b[0;32mimport\u001b[0m \u001b[0mload\u001b[0m\u001b[0;34m,\u001b[0m \u001b[0mwrite_wav\u001b[0m\u001b[0;34m\u001b[0m\u001b[0;34m\u001b[0m\u001b[0m\n\u001b[0m\u001b[1;32m      7\u001b[0m \u001b[0;34m\u001b[0m\u001b[0m\n\u001b[1;32m      8\u001b[0m \u001b[0;34m\u001b[0m\u001b[0m\n",
      "\u001b[0;32m~/pml/data/__init__.py\u001b[0m in \u001b[0;36m<module>\u001b[0;34m\u001b[0m\n\u001b[1;32m      1\u001b[0m \u001b[0;32mimport\u001b[0m \u001b[0mwaveUNet\u001b[0m\u001b[0;34m.\u001b[0m\u001b[0mdata\u001b[0m\u001b[0;34m.\u001b[0m\u001b[0mutils\u001b[0m \u001b[0;32mas\u001b[0m \u001b[0mutils\u001b[0m\u001b[0;34m\u001b[0m\u001b[0;34m\u001b[0m\u001b[0m\n\u001b[1;32m      2\u001b[0m \u001b[0;32mimport\u001b[0m \u001b[0mwaveUNet\u001b[0m\u001b[0;34m.\u001b[0m\u001b[0mdata\u001b[0m\u001b[0;34m.\u001b[0m\u001b[0mmusdb\u001b[0m \u001b[0;32mas\u001b[0m \u001b[0mmusdb\u001b[0m\u001b[0;34m\u001b[0m\u001b[0;34m\u001b[0m\u001b[0m\n\u001b[0;32m----> 3\u001b[0;31m \u001b[0;32mimport\u001b[0m \u001b[0mwaveUNet\u001b[0m\u001b[0;34m.\u001b[0m\u001b[0mdata\u001b[0m\u001b[0;34m.\u001b[0m\u001b[0mdataset\u001b[0m \u001b[0;32mas\u001b[0m \u001b[0mdataset\u001b[0m\u001b[0;34m\u001b[0m\u001b[0;34m\u001b[0m\u001b[0m\n\u001b[0m",
      "\u001b[0;32m~/pml/waveUNet/data/dataset.py\u001b[0m in \u001b[0;36m<module>\u001b[0;34m\u001b[0m\n\u001b[1;32m      7\u001b[0m \u001b[0;32mfrom\u001b[0m \u001b[0mtqdm\u001b[0m \u001b[0;32mimport\u001b[0m \u001b[0mtqdm\u001b[0m\u001b[0;34m\u001b[0m\u001b[0;34m\u001b[0m\u001b[0m\n\u001b[1;32m      8\u001b[0m \u001b[0;34m\u001b[0m\u001b[0m\n\u001b[0;32m----> 9\u001b[0;31m \u001b[0;32mfrom\u001b[0m \u001b[0mdata\u001b[0m\u001b[0;34m.\u001b[0m\u001b[0mutils\u001b[0m \u001b[0;32mimport\u001b[0m \u001b[0mload\u001b[0m\u001b[0;34m\u001b[0m\u001b[0;34m\u001b[0m\u001b[0m\n\u001b[0m\u001b[1;32m     10\u001b[0m \u001b[0;34m\u001b[0m\u001b[0m\n\u001b[1;32m     11\u001b[0m \u001b[0;34m\u001b[0m\u001b[0m\n",
      "\u001b[0;31mModuleNotFoundError\u001b[0m: No module named 'data.utils'"
     ]
    }
   ],
   "source": [
    "import musdb_loader\n",
    "import viz\n",
    "import dataset\n",
    "import torch"
   ]
  },
  {
   "cell_type": "code",
   "execution_count": null,
   "id": "8ba6f275",
   "metadata": {},
   "outputs": [],
   "source": [
    "db_path = 'data/musdb'\n",
    "musdb_loader.setup_hq_musdb(db_path)\n",
    "data = musdb_loader.get_musdb_folds(db_path)"
   ]
  },
  {
   "cell_type": "code",
   "execution_count": null,
   "id": "a140b818",
   "metadata": {},
   "outputs": [],
   "source": [
    "train = dataset.RawSeparationDataset(data['train'])\n",
    "test = dataset.RawSeparationDataset(data['test'])"
   ]
  },
  {
   "cell_type": "code",
   "execution_count": null,
   "id": "3f482450",
   "metadata": {},
   "outputs": [],
   "source": [
    "train_audio, target_audios = (train[9])"
   ]
  },
  {
   "cell_type": "code",
   "execution_count": null,
   "id": "bf07250b",
   "metadata": {},
   "outputs": [],
   "source": [
    "train_audio, target_audios"
   ]
  },
  {
   "cell_type": "code",
   "execution_count": null,
   "id": "daf515f6",
   "metadata": {},
   "outputs": [],
   "source": [
    "viz.play_audio(train_audio, sample_rate=22050)"
   ]
  },
  {
   "cell_type": "code",
   "execution_count": null,
   "id": "74eca0fd",
   "metadata": {},
   "outputs": [],
   "source": [
    "viz.play_audio(target_audios['vocals'], sample_rate=22050)"
   ]
  },
  {
   "cell_type": "code",
   "execution_count": null,
   "id": "51858b48",
   "metadata": {},
   "outputs": [],
   "source": [
    "viz.plot_specgram(train_audio, sample_rate=22050)"
   ]
  },
  {
   "cell_type": "code",
   "execution_count": null,
   "id": "388675c2",
   "metadata": {},
   "outputs": [],
   "source": [
    "viz.plot_specgram(target_audios['vocals'], sample_rate=22050)"
   ]
  },
  {
   "cell_type": "code",
   "execution_count": null,
   "id": "6209ee44",
   "metadata": {},
   "outputs": [],
   "source": [
    "viz.plot_specgram(target_audios['bass'], sample_rate=22050)"
   ]
  },
  {
   "cell_type": "code",
   "execution_count": null,
   "id": "eabdfc7c",
   "metadata": {},
   "outputs": [],
   "source": [
    "viz.plot_waveform(train_audio, sample_rate=22050)"
   ]
  },
  {
   "cell_type": "code",
   "execution_count": null,
   "id": "a76de1ef",
   "metadata": {},
   "outputs": [],
   "source": [
    "viz.plot_sweep(train_audio, 22050, 'sweep')"
   ]
  },
  {
   "cell_type": "code",
   "execution_count": null,
   "id": "e089e1ad",
   "metadata": {},
   "outputs": [],
   "source": [
    "viz.plot_sweep(target_audios['bass'], 22050, 'sweep')"
   ]
  },
  {
   "cell_type": "markdown",
   "id": "ed128923",
   "metadata": {},
   "source": [
    "### Adding a transformation used in the paper"
   ]
  },
  {
   "cell_type": "code",
   "execution_count": null,
   "id": "108d30df",
   "metadata": {},
   "outputs": [],
   "source": [
    "import numpy as np\n",
    "def random_amplify(mix, targets, min, max):\n",
    "    '''\n",
    "    Data augmentation by randomly amplifying sources before adding them to form a new mixture\n",
    "    :param mix: Original mixture\n",
    "    :param targets: Source targets\n",
    "    :param shapes: Shape dict from model\n",
    "    :param min: Minimum possible amplification\n",
    "    :param max: Maximum possible amplification\n",
    "    :return: New data point as tuple (mix, targets)\n",
    "    '''\n",
    "    residual = mix  # start with original mix\n",
    "    for key in targets.keys():\n",
    "        residual -= targets[key]  # subtract all instruments (output is zero if all instruments add to mix)\n",
    "    mix = residual * np.random.uniform(min, max)  # also apply gain data augmentation to residual\n",
    "    for key in targets.keys():\n",
    "        if key != \"mix\":\n",
    "            targets[key] = targets[key] * np.random.uniform(min, max)\n",
    "            mix += targets[key]  # add instrument with gain data augmentation to mix\n",
    "#     mix = torch.clip(mix, -1.0, 1.0) #uncomment later\n",
    "    return mix, targets\n"
   ]
  },
  {
   "cell_type": "code",
   "execution_count": null,
   "id": "e547db72",
   "metadata": {},
   "outputs": [],
   "source": [
    "from functools import partial\n",
    "amplify_function = partial(random_amplify, min=0.7, max=10.0)\n",
    "transforms = [amplify_function]\n",
    "transformed_train = dataset.SeparationDataset(data['train'], transforms=transforms)\n",
    "trasnformed_test = dataset.SeparationDataset(data['test'], transforms=transforms)"
   ]
  },
  {
   "cell_type": "code",
   "execution_count": null,
   "id": "7b006b57",
   "metadata": {},
   "outputs": [],
   "source": [
    "transformed_train_audio, transformed_target_audios = transformed_train[9]"
   ]
  },
  {
   "cell_type": "code",
   "execution_count": null,
   "id": "a2273ef1",
   "metadata": {},
   "outputs": [],
   "source": [
    "viz.plot_specgram(train_audio, sample_rate=22050)"
   ]
  },
  {
   "cell_type": "code",
   "execution_count": null,
   "id": "54e1d6c4",
   "metadata": {},
   "outputs": [],
   "source": [
    "viz.plot_specgram(transformed_train_audio, sample_rate=22050)"
   ]
  },
  {
   "cell_type": "code",
   "execution_count": null,
   "id": "a11a9e54",
   "metadata": {},
   "outputs": [],
   "source": [
    "viz.play_audio(train_audio, sample_rate=22050)"
   ]
  },
  {
   "cell_type": "code",
   "execution_count": null,
   "id": "7971b028",
   "metadata": {},
   "outputs": [],
   "source": [
    "viz.play_audio(transformed_train_audio, sample_rate=22050)"
   ]
  },
  {
   "cell_type": "code",
   "execution_count": null,
   "id": "e6561b04",
   "metadata": {},
   "outputs": [],
   "source": []
  }
 ],
 "metadata": {
  "kernelspec": {
   "display_name": "Python 3 (ipykernel)",
   "language": "python",
   "name": "python3"
  },
  "language_info": {
   "codemirror_mode": {
    "name": "ipython",
    "version": 3
   },
   "file_extension": ".py",
   "mimetype": "text/x-python",
   "name": "python",
   "nbconvert_exporter": "python",
   "pygments_lexer": "ipython3",
   "version": "3.8.12"
  }
 },
 "nbformat": 4,
 "nbformat_minor": 5
}
